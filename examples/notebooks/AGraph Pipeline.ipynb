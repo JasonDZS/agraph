{
 "cells": [
  {
   "cell_type": "code",
   "id": "initial_id",
   "metadata": {
    "collapsed": true,
    "ExecuteTime": {
     "end_time": "2025-09-04T07:25:44.723501Z",
     "start_time": "2025-09-04T07:25:43.906495Z"
    }
   },
   "source": [
    "from agraph.builder import KnowledgeGraphBuilder\n",
    "\n",
    "# 完全相同的API，内部自动使用新管道架构\n",
    "builder = KnowledgeGraphBuilder()\n",
    "texts = [\"Apple Inc. is a technology company.\", \"Microsoft was founded by Bill Gates.\"]\n",
    "kg = await builder.build_from_text(texts, graph_name=\"tech_companies\")"
   ],
   "outputs": [
    {
     "name": "stderr",
     "output_type": "stream",
     "text": [
      "\u001B[32m2025-09-04 15:25:44.700\u001B[0m | \u001B[31m\u001B[1mERROR   \u001B[0m | \u001B[36magraph.processor.factory\u001B[0m:\u001B[36mregister_processor\u001B[0m:\u001B[36m121\u001B[0m - \u001B[31m\u001B[1mFailed to register ImageProcessor: No multimodal model available. Please set OPENAI_API_KEY or ANTHROPIC_API_KEY environment variable and install the required packages (openai or anthropic).\u001B[0m\n",
      "\u001B[32m2025-09-04 15:25:44.701\u001B[0m | \u001B[31m\u001B[1mERROR   \u001B[0m | \u001B[36magraph.processor.factory\u001B[0m:\u001B[36m_register_default_processors\u001B[0m:\u001B[36m75\u001B[0m - \u001B[31m\u001B[1mFailed to register ImageProcessor: No multimodal model available. Please set OPENAI_API_KEY or ANTHROPIC_API_KEY environment variable and install the required packages (openai or anthropic).\u001B[0m\n",
      "\u001B[32m2025-09-04 15:25:44.701\u001B[0m | \u001B[1mINFO    \u001B[0m | \u001B[36magraph.processor.factory\u001B[0m:\u001B[36m_register_default_processors\u001B[0m:\u001B[36m77\u001B[0m - \u001B[1mSuccessfully registered 6/7 processors\u001B[0m\n",
      "\u001B[32m2025-09-04 15:25:44.702\u001B[0m | \u001B[1mINFO    \u001B[0m | \u001B[36magraph.builder.handler.graph_assembler\u001B[0m:\u001B[36mset_unified_managers\u001B[0m:\u001B[36m46\u001B[0m - \u001B[1mGraphAssembler configured to use unified architecture\u001B[0m\n",
      "\u001B[32m2025-09-04 15:25:44.702\u001B[0m | \u001B[1mINFO    \u001B[0m | \u001B[36magraph.builder.builder\u001B[0m:\u001B[36m__init__\u001B[0m:\u001B[36m119\u001B[0m - \u001B[1mKnowledgeGraphBuilder initialized - Enable KG: True, LLM Provider: openai, LLM Model: gpt-3.5-turbo, Cache Dir: ./cache, Chunk Size: 1000, Entity Threshold: 0.7, Relation Threshold: 0.6, Cluster Algorithm: community_detection\u001B[0m\n",
      "\u001B[32m2025-09-04 15:25:44.702\u001B[0m | \u001B[1mINFO    \u001B[0m | \u001B[36magraph.builder.builder\u001B[0m:\u001B[36mbuild_from_text\u001B[0m:\u001B[36m343\u001B[0m - \u001B[1mStarting knowledge graph build from 2 text strings - Graph Name: 'tech_companies', Use Cache: True, From Step: None\u001B[0m\n",
      "\u001B[32m2025-09-04 15:25:44.703\u001B[0m | \u001B[1mINFO    \u001B[0m | \u001B[36magraph.builder.builder\u001B[0m:\u001B[36mbuild_from_text\u001B[0m:\u001B[36m351\u001B[0m - \u001B[1mResetting build status for fresh build (skipping document processing)\u001B[0m\n",
      "\u001B[32m2025-09-04 15:25:44.705\u001B[0m | \u001B[1mINFO    \u001B[0m | \u001B[36magraph.builder.builder\u001B[0m:\u001B[36mbuild_from_text\u001B[0m:\u001B[36m359\u001B[0m - \u001B[1mStep 2: Chunking 2 texts\u001B[0m\n",
      "\u001B[32m2025-09-04 15:25:44.706\u001B[0m | \u001B[1mINFO    \u001B[0m | \u001B[36magraph.builder.handler.text_chunker_handler\u001B[0m:\u001B[36mchunk_texts\u001B[0m:\u001B[36m46\u001B[0m - \u001B[1mChunking 2 texts with chunk size 1000\u001B[0m\n",
      "\u001B[32m2025-09-04 15:25:44.707\u001B[0m | \u001B[1mINFO    \u001B[0m | \u001B[36magraph.builder.handler.text_chunker_handler\u001B[0m:\u001B[36mchunk_texts\u001B[0m:\u001B[36m115\u001B[0m - \u001B[1mText chunking completed - created 2 chunks from 2 texts (0 newly processed, 2 from cache)\u001B[0m\n",
      "\u001B[32m2025-09-04 15:25:44.708\u001B[0m | \u001B[1mINFO    \u001B[0m | \u001B[36magraph.builder.builder\u001B[0m:\u001B[36mbuild_from_text\u001B[0m:\u001B[36m362\u001B[0m - \u001B[1mText chunking completed - created 2 chunks\u001B[0m\n",
      "\u001B[32m2025-09-04 15:25:44.709\u001B[0m | \u001B[1mINFO    \u001B[0m | \u001B[36magraph.builder.builder\u001B[0m:\u001B[36mbuild_from_text\u001B[0m:\u001B[36m372\u001B[0m - \u001B[1mStep 3: Extracting entities from 2 chunks\u001B[0m\n",
      "\u001B[32m2025-09-04 15:25:44.710\u001B[0m | \u001B[1mINFO    \u001B[0m | \u001B[36magraph.builder.handler.entity_handler\u001B[0m:\u001B[36mextract_entities_from_chunks\u001B[0m:\u001B[36m42\u001B[0m - \u001B[1mExtracting entities from 2 chunks using LLMEntityExtractor\u001B[0m\n",
      "\u001B[32m2025-09-04 15:25:44.713\u001B[0m | \u001B[1mINFO    \u001B[0m | \u001B[36magraph.builder.handler.entity_handler\u001B[0m:\u001B[36mextract_entities_from_chunks\u001B[0m:\u001B[36m160\u001B[0m - \u001B[1mEntity extraction completed - found 0 unique entities (0 from cache, 0 newly extracted)\u001B[0m\n",
      "\u001B[32m2025-09-04 15:25:44.714\u001B[0m | \u001B[1mINFO    \u001B[0m | \u001B[36magraph.builder.builder\u001B[0m:\u001B[36mbuild_from_text\u001B[0m:\u001B[36m379\u001B[0m - \u001B[1mEntity extraction completed - found 0 entities\u001B[0m\n",
      "\u001B[32m2025-09-04 15:25:44.714\u001B[0m | \u001B[1mINFO    \u001B[0m | \u001B[36magraph.builder.builder\u001B[0m:\u001B[36mbuild_from_text\u001B[0m:\u001B[36m396\u001B[0m - \u001B[1mStep 4: Extracting relations from 2 chunks and 0 entities\u001B[0m\n",
      "\u001B[32m2025-09-04 15:25:44.715\u001B[0m | \u001B[1mINFO    \u001B[0m | \u001B[36magraph.builder.handler.relation_handler\u001B[0m:\u001B[36mextract_relations_from_chunks\u001B[0m:\u001B[36m44\u001B[0m - \u001B[1mExtracting relations from 2 chunks and 0 entities using LLMRelationExtractor\u001B[0m\n",
      "\u001B[32m2025-09-04 15:25:44.716\u001B[0m | \u001B[1mINFO    \u001B[0m | \u001B[36magraph.builder.handler.relation_handler\u001B[0m:\u001B[36mextract_relations_from_chunks\u001B[0m:\u001B[36m247\u001B[0m - \u001B[1mRelation extraction completed - found 0 unique relations (0 from cache, 0 newly extracted)\u001B[0m\n",
      "\u001B[32m2025-09-04 15:25:44.716\u001B[0m | \u001B[1mINFO    \u001B[0m | \u001B[36magraph.builder.builder\u001B[0m:\u001B[36mbuild_from_text\u001B[0m:\u001B[36m405\u001B[0m - \u001B[1mRelation extraction completed - found 0 relations\u001B[0m\n",
      "\u001B[32m2025-09-04 15:25:44.717\u001B[0m | \u001B[1mINFO    \u001B[0m | \u001B[36magraph.builder.builder\u001B[0m:\u001B[36mbuild_from_text\u001B[0m:\u001B[36m424\u001B[0m - \u001B[1mStep 5: Forming clusters from 0 entities and 0 relations\u001B[0m\n",
      "\u001B[32m2025-09-04 15:25:44.717\u001B[0m | \u001B[1mINFO    \u001B[0m | \u001B[36magraph.builder.handler.cluster_handler\u001B[0m:\u001B[36mform_clusters\u001B[0m:\u001B[36m42\u001B[0m - \u001B[1mForming clusters from 0 entities and 0 relations using CommunityDetectionAlgorithm\u001B[0m\n",
      "\u001B[32m2025-09-04 15:25:44.718\u001B[0m | \u001B[1mINFO    \u001B[0m | \u001B[36magraph.builder.handler.cluster_handler\u001B[0m:\u001B[36mform_clusters\u001B[0m:\u001B[36m54\u001B[0m - \u001B[1mUsing cached cluster formation results for 0 entities and 0 relations\u001B[0m\n",
      "\u001B[32m2025-09-04 15:25:44.718\u001B[0m | \u001B[1mINFO    \u001B[0m | \u001B[36magraph.builder.builder\u001B[0m:\u001B[36mbuild_from_text\u001B[0m:\u001B[36m431\u001B[0m - \u001B[1mCluster formation completed - created 0 clusters\u001B[0m\n",
      "\u001B[32m2025-09-04 15:25:44.719\u001B[0m | \u001B[1mINFO    \u001B[0m | \u001B[36magraph.builder.builder\u001B[0m:\u001B[36mbuild_from_text\u001B[0m:\u001B[36m447\u001B[0m - \u001B[1mStep 6: Assembling knowledge graph with 0 entities, 0 relations, 0 clusters\u001B[0m\n",
      "\u001B[32m2025-09-04 15:25:44.719\u001B[0m | \u001B[1mINFO    \u001B[0m | \u001B[36magraph.builder.handler.graph_assembler\u001B[0m:\u001B[36massemble_knowledge_graph\u001B[0m:\u001B[36m100\u001B[0m - \u001B[1mAssembling knowledge graph with 0 entities, 0 relations, 0 clusters, and 2 chunks (unified architecture: True)\u001B[0m\n",
      "\u001B[32m2025-09-04 15:25:44.720\u001B[0m | \u001B[1mINFO    \u001B[0m | \u001B[36magraph.builder.handler.graph_assembler\u001B[0m:\u001B[36massemble_knowledge_graph\u001B[0m:\u001B[36m113\u001B[0m - \u001B[1mUsing cached knowledge graph assembly results\u001B[0m\n",
      "\u001B[32m2025-09-04 15:25:44.721\u001B[0m | \u001B[1mINFO    \u001B[0m | \u001B[36magraph.builder.builder\u001B[0m:\u001B[36mbuild_from_text\u001B[0m:\u001B[36m455\u001B[0m - \u001B[1mKnowledge graph assembly completed - Graph: 'tech_companies'\u001B[0m\n",
      "\u001B[32m2025-09-04 15:25:44.722\u001B[0m | \u001B[1mINFO    \u001B[0m | \u001B[36magraph.builder.builder\u001B[0m:\u001B[36mbuild_from_text\u001B[0m:\u001B[36m479\u001B[0m - \u001B[1mKnowledge graph build completed successfully - Name: 'tech_companies', Entities: 0, Relations: 0, Clusters: 0\u001B[0m\n"
     ]
    }
   ],
   "execution_count": 1
  },
  {
   "metadata": {},
   "cell_type": "code",
   "outputs": [],
   "execution_count": null,
   "source": "",
   "id": "ff5ddc3abfd2ea63"
  }
 ],
 "metadata": {
  "kernelspec": {
   "display_name": "Python 3",
   "language": "python",
   "name": "python3"
  },
  "language_info": {
   "codemirror_mode": {
    "name": "ipython",
    "version": 2
   },
   "file_extension": ".py",
   "mimetype": "text/x-python",
   "name": "python",
   "nbconvert_exporter": "python",
   "pygments_lexer": "ipython2",
   "version": "2.7.6"
  }
 },
 "nbformat": 4,
 "nbformat_minor": 5
}
